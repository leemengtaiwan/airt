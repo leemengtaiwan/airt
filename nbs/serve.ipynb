{
 "cells": [
  {
   "cell_type": "markdown",
   "metadata": {},
   "source": [
    "# serve\n",
    "\n",
    "> Fill in a module description here"
   ]
  },
  {
   "cell_type": "code",
   "execution_count": 1,
   "metadata": {},
   "outputs": [],
   "source": [
    "#| default_exp serve"
   ]
  },
  {
   "cell_type": "code",
   "execution_count": 2,
   "metadata": {},
   "outputs": [],
   "source": [
    "#| hide\n",
    "from nbdev.showdoc import *"
   ]
  },
  {
   "cell_type": "code",
   "execution_count": 20,
   "metadata": {},
   "outputs": [],
   "source": [
    "#| export\n",
    "\n",
    "import tempfile\n",
    "import os\n",
    "import io\n",
    "import base64\n",
    "import PIL\n",
    "import random\n",
    "from pprint import pprint\n",
    "\n",
    "import torch\n",
    "from diffusers import StableDiffusionPipeline\n",
    "\n",
    "import pydantic\n",
    "\n",
    "\n",
    "from datascience_toolkits.fastapi import create_app, serve"
   ]
  },
  {
   "cell_type": "code",
   "execution_count": 33,
   "metadata": {},
   "outputs": [],
   "source": [
    "#| export\n",
    "\n",
    "device = torch.device('cuda')\n",
    "\n",
    "model_id = \"runwayml/stable-diffusion-v1-5\"\n",
    "pipe = StableDiffusionPipeline.from_pretrained(\n",
    "    model_id, torch_dtype=torch.float16, revision=\"fp16\")\n",
    "\n",
    "def do_nothing(clip_input, images):\n",
    "    return images, [0] * len(images)\n",
    "\n",
    "\n",
    "pipe.safety_checker = do_nothing\n",
    "pipe = pipe.to(device)\n",
    "\n",
    "_ = pipe(\"\", num_inference_steps=1)\n"
   ]
  },
  {
   "cell_type": "code",
   "execution_count": null,
   "metadata": {},
   "outputs": [
    {
     "name": "stderr",
     "output_type": "stream",
     "text": [
      "t=2022-10-24T03:08:40+0000 lvl=warn msg=\"can't bind default web address, trying alternatives\" obj=web addr=127.0.0.1:4040\n"
     ]
    },
    {
     "name": "stdout",
     "output_type": "stream",
     "text": [
      "http://e2d6-54-249-55-5.ngrok.io\n"
     ]
    },
    {
     "name": "stderr",
     "output_type": "stream",
     "text": [
      "INFO:     Started server process [28909]\n",
      "INFO:     Waiting for application startup.\n",
      "INFO:     Application startup complete.\n",
      "INFO:     Uvicorn running on http://127.0.0.1:8000 (Press CTRL+C to quit)\n"
     ]
    }
   ],
   "source": [
    "#| export \n",
    "\n",
    "class Request(pydantic.BaseModel):\n",
    "    prompt: str\n",
    "    steps: int = 1\n",
    "    guidance_scale: float = 7.5\n",
    "    negative_prompt: str = None\n",
    "    batch_size: int = 1\n",
    "    seed: int = None\n",
    "    mode: str = \"txt2img\"\n",
    "    init_image: str = None\n",
    "    strength: float = 0.8\n",
    "        \n",
    "\n",
    "\n",
    "async def txt2img(req: Request):\n",
    "    pprint(req)\n",
    "    tempdir = tempfile.gettempdir()\n",
    "    local_dir = os.path.join(tempdir, \"test.png\")\n",
    "    \n",
    "    seed = req.seed if req.seed else random.randint(1, 1000000000)\n",
    "    torch.manual_seed(seed)\n",
    "\n",
    "    pipe_out = pipe(\n",
    "        prompt=req.prompt, \n",
    "        num_inference_steps=req.steps,\n",
    "        guidance_scale=req.guidance_scale,\n",
    "        negative_prompt=req.negative_prompt,\n",
    "    )\n",
    "    images = pipe_out.images\n",
    "\n",
    "    \n",
    "    b64images = []\n",
    "    for img in images:\n",
    "        buffered = io.BytesIO()\n",
    "        img.save(buffered, format=\"PNG\")\n",
    "        img_str = base64.b64encode(buffered.getvalue())\n",
    "        b64images.append(img_str.decode())\n",
    "    return {\n",
    "        'images': b64images,\n",
    "        'seed': seed,\n",
    "    }\n",
    "    \n",
    "\n",
    "route_info = [{\n",
    "    \"path\": \"/\",\n",
    "    \"method\": \"post\",\n",
    "    \"endpoint\": txt2img\n",
    "}]\n",
    "\n",
    "app = create_app(route_info)\n",
    "serve(app)"
   ]
  },
  {
   "cell_type": "code",
   "execution_count": 1,
   "metadata": {},
   "outputs": [],
   "source": [
    "#| hide\n",
    "import nbdev; nbdev.nbdev_export()"
   ]
  },
  {
   "cell_type": "code",
   "execution_count": null,
   "metadata": {},
   "outputs": [],
   "source": []
  }
 ],
 "metadata": {
  "kernelspec": {
   "display_name": "Environment (conda_anaconda3)",
   "language": "python",
   "name": "conda_anaconda3"
  },
  "language_info": {
   "codemirror_mode": {
    "name": "ipython",
    "version": 3
   },
   "file_extension": ".py",
   "mimetype": "text/x-python",
   "name": "python",
   "nbconvert_exporter": "python",
   "pygments_lexer": "ipython3",
   "version": "3.7.10"
  }
 },
 "nbformat": 4,
 "nbformat_minor": 4
}
